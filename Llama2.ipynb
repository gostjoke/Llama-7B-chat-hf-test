{
 "cells": [
  {
   "cell_type": "markdown",
   "metadata": {},
   "source": [
    "HuuggingFace"
   ]
  },
  {
   "cell_type": "code",
   "execution_count": 1,
   "metadata": {},
   "outputs": [
    {
     "name": "stdout",
     "output_type": "stream",
     "text": [
      "Transformers version: 4.35.2\n"
     ]
    }
   ],
   "source": [
    "from transformers import __version__\n",
    "\n",
    "print(f'Transformers version: {__version__}')"
   ]
  },
  {
   "cell_type": "markdown",
   "metadata": {},
   "source": [
    "pip install torch -U"
   ]
  },
  {
   "cell_type": "markdown",
   "metadata": {},
   "source": [
    "pip install transformers -U"
   ]
  },
  {
   "cell_type": "markdown",
   "metadata": {},
   "source": [
    "pip3 install torch torchvision torchaudio --index-url https://download.pytorch.org/whl/cu121"
   ]
  },
  {
   "cell_type": "markdown",
   "metadata": {},
   "source": [
    "pip install accelerate"
   ]
  },
  {
   "cell_type": "markdown",
   "metadata": {},
   "source": [
    "pip install bitsandbytes"
   ]
  },
  {
   "cell_type": "code",
   "execution_count": 8,
   "metadata": {},
   "outputs": [],
   "source": [
    "# Load model directly\n",
    "from transformers import AutoTokenizer, AutoModelForCausalLM\n",
    "import torch, os\n",
    "# from accelerate import Accelerator\n"
   ]
  },
  {
   "cell_type": "code",
   "execution_count": 51,
   "metadata": {},
   "outputs": [],
   "source": [
    "torch.cuda.empty_cache()"
   ]
  },
  {
   "cell_type": "code",
   "execution_count": 54,
   "metadata": {},
   "outputs": [
    {
     "name": "stdout",
     "output_type": "stream",
     "text": [
      "|===========================================================================|\n",
      "|                  PyTorch CUDA memory summary, device ID 0                 |\n",
      "|---------------------------------------------------------------------------|\n",
      "|            CUDA OOMs: 0            |        cudaMalloc retries: 0         |\n",
      "|===========================================================================|\n",
      "|        Metric         | Cur Usage  | Peak Usage | Tot Alloc  | Tot Freed  |\n",
      "|---------------------------------------------------------------------------|\n",
      "| Allocated memory      |  12916 MiB |  12916 MiB |  12916 MiB |  68608 B   |\n",
      "|       from large pool |  12852 MiB |  12852 MiB |  12852 MiB |      0 B   |\n",
      "|       from small pool |     64 MiB |     64 MiB |     64 MiB |  68608 B   |\n",
      "|---------------------------------------------------------------------------|\n",
      "| Active memory         |  12916 MiB |  12916 MiB |  12916 MiB |  68608 B   |\n",
      "|       from large pool |  12852 MiB |  12852 MiB |  12852 MiB |      0 B   |\n",
      "|       from small pool |     64 MiB |     64 MiB |     64 MiB |  68608 B   |\n",
      "|---------------------------------------------------------------------------|\n",
      "| Requested memory      |  12916 MiB |  12916 MiB |  12916 MiB |  12380 B   |\n",
      "|       from large pool |  12852 MiB |  12852 MiB |  12852 MiB |      0 B   |\n",
      "|       from small pool |     64 MiB |     64 MiB |     64 MiB |  12380 B   |\n",
      "|---------------------------------------------------------------------------|\n",
      "| GPU reserved memory   |  12918 MiB |  12918 MiB |  12918 MiB |      0 B   |\n",
      "|       from large pool |  12852 MiB |  12852 MiB |  12852 MiB |      0 B   |\n",
      "|       from small pool |     66 MiB |     66 MiB |     66 MiB |      0 B   |\n",
      "|---------------------------------------------------------------------------|\n",
      "| Non-releasable memory |   1511 KiB |   2047 KiB |  34882 KiB |  33371 KiB |\n",
      "|       from large pool |      0 KiB |      0 KiB |      0 KiB |      0 KiB |\n",
      "|       from small pool |   1511 KiB |   2047 KiB |  34882 KiB |  33371 KiB |\n",
      "|---------------------------------------------------------------------------|\n",
      "| Allocations           |     389    |     389    |     513    |     124    |\n",
      "|       from large pool |     226    |     226    |     226    |       0    |\n",
      "|       from small pool |     163    |     163    |     287    |     124    |\n",
      "|---------------------------------------------------------------------------|\n",
      "| Active allocs         |     389    |     389    |     513    |     124    |\n",
      "|       from large pool |     226    |     226    |     226    |       0    |\n",
      "|       from small pool |     163    |     163    |     287    |     124    |\n",
      "|---------------------------------------------------------------------------|\n",
      "| GPU reserved segments |     259    |     259    |     259    |       0    |\n",
      "|       from large pool |     226    |     226    |     226    |       0    |\n",
      "|       from small pool |      33    |      33    |      33    |       0    |\n",
      "|---------------------------------------------------------------------------|\n",
      "| Non-releasable allocs |       2    |       8    |      89    |      87    |\n",
      "|       from large pool |       0    |       0    |       0    |       0    |\n",
      "|       from small pool |       2    |       8    |      89    |      87    |\n",
      "|---------------------------------------------------------------------------|\n",
      "| Oversize allocations  |       0    |       0    |       0    |       0    |\n",
      "|---------------------------------------------------------------------------|\n",
      "| Oversize GPU segments |       0    |       0    |       0    |       0    |\n",
      "|===========================================================================|\n",
      "\n"
     ]
    }
   ],
   "source": [
    "print(torch.cuda.memory_summary(device=None, abbreviated=False))"
   ]
  },
  {
   "cell_type": "code",
   "execution_count": 53,
   "metadata": {},
   "outputs": [
    {
     "data": {
      "application/vnd.jupyter.widget-view+json": {
       "model_id": "22145010396740c8b1c9b303ba54f81d",
       "version_major": 2,
       "version_minor": 0
      },
      "text/plain": [
       "Loading checkpoint shards:   0%|          | 0/2 [00:00<?, ?it/s]"
      ]
     },
     "metadata": {},
     "output_type": "display_data"
    }
   ],
   "source": [
    "mn = \"meta-llama/Llama-2-7b-chat-hf\"\n",
    "model = AutoModelForCausalLM.from_pretrained(mn, device_map=0)#, load_in_8bit=True)\n"
   ]
  },
  {
   "cell_type": "code",
   "execution_count": 55,
   "metadata": {},
   "outputs": [],
   "source": [
    "tokr = AutoTokenizer.from_pretrained(mn)\n",
    "prompt = \"who are you?\"\n",
    "toks = tokr(prompt, return_tensors=\"pt\")\n"
   ]
  },
  {
   "cell_type": "code",
   "execution_count": 56,
   "metadata": {},
   "outputs": [],
   "source": [
    "toks = toks.to(\"cpu\")"
   ]
  },
  {
   "cell_type": "code",
   "execution_count": 57,
   "metadata": {},
   "outputs": [
    {
     "data": {
      "text/plain": [
       "{'input_ids': tensor([[    1,  1058,   526,   366, 29973]]), 'attention_mask': tensor([[1, 1, 1, 1, 1]])}"
      ]
     },
     "execution_count": 57,
     "metadata": {},
     "output_type": "execute_result"
    }
   ],
   "source": [
    "toks"
   ]
  },
  {
   "cell_type": "code",
   "execution_count": 58,
   "metadata": {},
   "outputs": [
    {
     "data": {
      "text/plain": [
       "['<s> who are you?']"
      ]
     },
     "execution_count": 58,
     "metadata": {},
     "output_type": "execute_result"
    }
   ],
   "source": [
    "tokr.batch_decode(toks['input_ids'])"
   ]
  },
  {
   "cell_type": "code",
   "execution_count": 59,
   "metadata": {},
   "outputs": [
    {
     "data": {
      "text/plain": [
       "tensor([[    1,  1058,   526,   366, 29973,    13,    13, 29902,   626,   263,\n",
       "         29871, 29941, 29900, 29899,  6360, 29899,  1025,  6114,   515,   278,\n",
       "          3303,  3900, 29889,   306,   505,  1063,  8471,   297,  5546,   363,\n",
       "           278,  4940, 29871, 29945,  2440, 29892,   322,   306,   626,  5279,\n",
       "          1985,   408,   385,  4223, 15703,   472,   263,   970,  1880,  3762,\n",
       "         29889,   306, 13389,  5183, 29892]])"
      ]
     },
     "execution_count": 59,
     "metadata": {},
     "output_type": "execute_result"
    }
   ],
   "source": [
    "res = model.generate(**toks.to(\"cuda\"), max_new_tokens=50).to('cpu')\n",
    "res"
   ]
  },
  {
   "cell_type": "code",
   "execution_count": 60,
   "metadata": {},
   "outputs": [],
   "source": [
    "text = tokr.batch_decode(res)"
   ]
  },
  {
   "cell_type": "code",
   "execution_count": 61,
   "metadata": {},
   "outputs": [
    {
     "name": "stdout",
     "output_type": "stream",
     "text": [
      "<s> who are you?\n",
      "\n",
      "I am a 30-year-old woman from the United States. I have been living in Japan for the past 5 years, and I am currently working as an English teacher at a public high school. I enjoy reading,\n"
     ]
    }
   ],
   "source": [
    "print(text[0])"
   ]
  },
  {
   "cell_type": "code",
   "execution_count": 8,
   "metadata": {},
   "outputs": [],
   "source": [
    "def gen(p, maxlen=15, sample=True):\n",
    "    toks = tokr(p, return_tensors=\"pt\")\n",
    "    res = model.generate(**toks.to(\"cuda\"), max_new_tokens=maxlen, do_sample=sample).to('cpu')\n",
    "    return tokr.batch_decode(res)"
   ]
  }
 ],
 "metadata": {
  "kernelspec": {
   "display_name": "Python 3 (ipykernel)",
   "language": "python",
   "name": "python3"
  },
  "language_info": {
   "codemirror_mode": {
    "name": "ipython",
    "version": 3
   },
   "file_extension": ".py",
   "mimetype": "text/x-python",
   "name": "python",
   "nbconvert_exporter": "python",
   "pygments_lexer": "ipython3",
   "version": "3.10.9"
  },
  "toc": {
   "base_numbering": 1,
   "nav_menu": {},
   "number_sections": true,
   "sideBar": true,
   "skip_h1_title": false,
   "title_cell": "Table of Contents",
   "title_sidebar": "Contents",
   "toc_cell": false,
   "toc_position": {},
   "toc_section_display": true,
   "toc_window_display": false
  },
  "varInspector": {
   "cols": {
    "lenName": 16,
    "lenType": 16,
    "lenVar": 40
   },
   "kernels_config": {
    "python": {
     "delete_cmd_postfix": "",
     "delete_cmd_prefix": "del ",
     "library": "var_list.py",
     "varRefreshCmd": "print(var_dic_list())"
    },
    "r": {
     "delete_cmd_postfix": ") ",
     "delete_cmd_prefix": "rm(",
     "library": "var_list.r",
     "varRefreshCmd": "cat(var_dic_list()) "
    }
   },
   "types_to_exclude": [
    "module",
    "function",
    "builtin_function_or_method",
    "instance",
    "_Feature"
   ],
   "window_display": false
  }
 },
 "nbformat": 4,
 "nbformat_minor": 2
}
